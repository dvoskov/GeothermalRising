{
 "cells": [
  {
   "cell_type": "markdown",
   "metadata": {},
   "source": [
    "<img style=\"float: left;\" src=\"Perm.png\" width=\"30%\">   \n",
    "# <font color='Red'> $\\;$ Reservoir model for geothermal doublet</font>"
   ]
  },
  {
   "cell_type": "markdown",
   "metadata": {},
   "source": [
    "## <font color='Blue'>Introduction</font>\n",
    "###  In this exercise, we run simulation in a 3D channelized reservoir.\n",
    "\n",
    "## <font color='blue'>The objectives:</font>\n",
    "1. Introduce custom <font color='red'>'Model'</font> class based on \n",
    " * Class [DartsModel](darts/models/darts_model.py) with base model capabilities\n",
    " * Class [StructReservoir](darts/models/reservoirs/struct_reservoir.py) with structured reservoir\n",
    " * Class [GeothermalPhysics](darts/models/physics/geothermal.py) for geothermal engine is used\n",
    " * Class [Properties](darts/models/physics/iapws/iapws_property.py) for geothermal fluid based on IAPWS-97 Equatipn of State.\n",
    "2. Use run_python procedure to control run from the python script\n",
    "3. Introduce wells and change their location\n",
    "\n",
    "## <font color='Blue'>Let's start!</font>\n"
   ]
  },
  {
   "cell_type": "markdown",
   "metadata": {},
   "source": [
    "<img style=\"float: left;\" src=\"slides/Slide2.PNG\" width=\"80%\">"
   ]
  },
  {
   "cell_type": "markdown",
   "metadata": {},
   "source": [
    "<img style=\"float: left;\" src=\"slides/Slide3.PNG\" width=\"80%\">"
   ]
  },
  {
   "cell_type": "code",
   "execution_count": null,
   "metadata": {},
   "outputs": [],
   "source": [
    "from darts.models.reservoirs.struct_reservoir import StructReservoir\n",
    "from darts.models.physics.geothermal import Geothermal\n",
    "from darts.models.darts_model import DartsModel\n",
    "from darts.models.physics.iapws.iapws_property_vec import _Backward1_T_Ph_vec\n",
    "from darts.tools.keyword_file_tools import load_single_keyword\n",
    "from darts.engines import redirect_darts_output\n",
    "import numpy as np\n",
    "redirect_darts_output('run.log')"
   ]
  },
  {
   "cell_type": "markdown",
   "metadata": {},
   "source": [
    "#### Brief Introduction of model inheritance\n",
    "* Here create the <font color='red'>'Model' </font>  class, which inherits from <font color='red'>DartsModel</font> (the base class).\n",
    "* It keeps all the functionalities of <font color='red'>DartsModel</font> and can also be extended to add more functionalities.\n",
    "* If a function is redefined in subclass, the function in base class with identical name will be overridden."
   ]
  },
  {
   "cell_type": "code",
   "execution_count": null,
   "metadata": {},
   "outputs": [],
   "source": [
    "class Model(DartsModel):\n",
    "    def __init__(self, n_points=128):\n",
    "        # call base class constructor\n",
    "        super().__init__()\n",
    "        \n",
    "        self.timer.node[\"initialization\"].start()\n",
    "        \n",
    "        # parameters for the reservoir\n",
    "        self.name = 'base'        \n",
    "        (nx, ny, nz) = (60, 60, 7)\n",
    "        nb   = nx * ny * nz\n",
    "        perm = np.ones(nb) * 1000\n",
    "        poro = np.ones(nb) * 0.2\n",
    "        dz   = np.ones(nb) * 15\n",
    "        \n",
    "        # adjust for over/under-burden\n",
    "        perm[:nx*ny]  = 1e-5\n",
    "        perm[-nx*ny:] = 1e-5\n",
    "        poro[:nx*ny]  = 1e-5\n",
    "        poro[-nx*ny:] = 1e-5 \n",
    "        \n",
    "        # discretize structured reservoir\n",
    "        self.reservoir = StructReservoir(self.timer, nx=nx, ny=ny, nz=nz, dx=30, dy=30, dz=dz, permx=perm,\n",
    "                                         permy=perm, permz=perm*0.1, poro=poro, depth=2000)\n",
    "        \n",
    "        # add open boundaries\n",
    "        self.reservoir.set_boundary_volume(xz_minus=1e8, xz_plus=1e8, yz_minus=1e8, yz_plus=1e8)\n",
    "        \n",
    "        # add well's locations\n",
    "        self.iw = [30, 30]\n",
    "        self.jw = [14, 46]\n",
    "        \n",
    "        # add well\n",
    "        self.reservoir.add_well(\"INJ\")\n",
    "        n_perf = self.reservoir.nz        \n",
    "        # add perforations to te payzone\n",
    "        for n in range(1, n_perf-1):\n",
    "            self.reservoir.add_perforation(well=self.reservoir.wells[-1], i=self.iw[0], j=self.jw[0], k=n+1, \n",
    "                                           well_radius=0.16)\n",
    "\n",
    "        # add well\n",
    "        self.reservoir.add_well(\"PRD\")\n",
    "        # add perforations to te payzone        \n",
    "        for n in range(1, n_perf-1):\n",
    "            self.reservoir.add_perforation(self.reservoir.wells[-1], self.iw[1], self.jw[1], n+1, 0.16)\n",
    "\n",
    "        # rock heat capacity and rock thermal conduction\n",
    "        hcap = np.array(self.reservoir.mesh.heat_capacity, copy=False)\n",
    "        rcond = np.array(self.reservoir.mesh.rock_cond, copy=False)\n",
    "        hcap.fill(2200)\n",
    "        rcond.fill(500)\n",
    "\n",
    "        # create physics for geothermal\n",
    "        self.physics = Geothermal(self.timer, n_points, 1, 351, 1000, 10000, cache=False)\n",
    "\n",
    "        # timestep parameters\n",
    "        self.params.first_ts = 1e-3\n",
    "        self.params.mult_ts  = 2\n",
    "        self.params.max_ts   = 365\n",
    "\n",
    "        # nonlinear and linear solver tolerance\n",
    "        self.params.tolerance_newton = 1e-2\n",
    "        self.params.tolerance_linear = 1e-4\n",
    "\n",
    "        self.timer.node[\"initialization\"].stop()\n",
    "\n",
    "    def set_initial_conditions(self):\n",
    "        self.physics.set_uniform_initial_conditions(self.reservoir.mesh, uniform_pressure=200,\n",
    "                                                    uniform_temperature=350)\n",
    "\n",
    "    def set_boundary_conditions(self):\n",
    "        for i, w in enumerate(self.reservoir.wells):\n",
    "            if i == 0:\n",
    "                w.control = self.physics.new_rate_water_inj(6000, 300)\n",
    "            else:\n",
    "                w.control = self.physics.new_rate_water_prod(6000)\n",
    "                \n",
    "    def export_pro_vtk(self, file_name='Results'):\n",
    "        X = np.array(self.physics.engine.X, copy=False)\n",
    "        nb = self.reservoir.mesh.n_res_blocks\n",
    "        temp = _Backward1_T_Ph_vec(X[0:2 * nb:2] / 10, X[1:2 * nb:2] / 18.015)\n",
    "        local_cell_data = {'Temperature': temp,\n",
    "                           'Perm': self.reservoir.global_data['permx']}\n",
    "        self.export_vtk(file_name, local_cell_data=local_cell_data)"
   ]
  },
  {
   "cell_type": "markdown",
   "metadata": {},
   "source": [
    "<img style=\"float: left;\" src=\"slides/Slide4.PNG\" width=\"80%\">"
   ]
  },
  {
   "cell_type": "code",
   "execution_count": null,
   "metadata": {
    "scrolled": true
   },
   "outputs": [],
   "source": [
    "m = Model()\n",
    "m.init()\n",
    "m.export_pro_vtk(m.name)\n",
    "m.run_python(1e-3)\n",
    "\n",
    "for t in range(3):\n",
    "    m.run_python(10*365, restart_dt=365)\n",
    "    m.export_pro_vtk(m.name)\n",
    "\n",
    "m.print_timers()"
   ]
  },
  {
   "cell_type": "markdown",
   "metadata": {},
   "source": [
    "<img style=\"float: left;\" src=\"slides/Slide5.PNG\" width=\"80%\">"
   ]
  },
  {
   "cell_type": "code",
   "execution_count": null,
   "metadata": {},
   "outputs": [],
   "source": [
    "import pandas as pd\n",
    "td = pd.DataFrame.from_dict(m.physics.engine.time_data)\n",
    "writer = pd.ExcelWriter(m.name + '.xlsx')\n",
    "td.to_excel(writer, 'Sheet1')\n",
    "writer.save()"
   ]
  },
  {
   "cell_type": "code",
   "execution_count": null,
   "metadata": {},
   "outputs": [],
   "source": [
    "import matplotlib.pyplot as plt\n",
    "string = 'PRD : temperature'\n",
    "ax1 = td.plot(x='time', y=[col for col in td.columns if string in col])\n",
    "ax1.plot([0, 1.1e4],[344, 344])\n",
    "ax1.set_xlabel('Days')\n",
    "ax1.legend(['temp', 'limit'])\n",
    "plt.grid()\n",
    "plt.show()"
   ]
  },
  {
   "cell_type": "code",
   "execution_count": null,
   "metadata": {},
   "outputs": [],
   "source": [
    "import pyvista as pv\n",
    "\n",
    "# get vts data\n",
    "mesh = pv.read('vtk_data/' + m.name + '_ts3.vts')\n",
    "\n",
    "# define plotter\n",
    "plotter = pv.Plotter()\n",
    "\n",
    "# set temperature as active scalar\n",
    "mesh.set_active_scalars('Temperature')\n",
    "\n",
    "# add threshold levels\n",
    "threshed = mesh.threshold([300, 340], invert=False)\n",
    "\n",
    "# add outline of mesh\n",
    "outline = mesh.outline()\n",
    "\n",
    "# add elements to plotter\n",
    "plotter.set_background('#52576c')\n",
    "plotter.add_mesh(outline, color='k')\n",
    "plotter.add_mesh(mesh, scalars='Perm', cmap='binary',\n",
    "                 opacity=0.15,\n",
    "                 stitle='Permeability (mD)')\n",
    "\n",
    "plotter.add_mesh(threshed, cmap='coolwarm',\n",
    "                 stitle='Temperature (\\N{DEGREE SIGN}C)')\n",
    "\n",
    "# add wells as arrows\n",
    "inj = np.array([m.iw[0]*30-15, m.jw[0]*30-15, -1700])\n",
    "prod = np.array([m.iw[1]*30-15, m.jw[1]*30-15, -2000])\n",
    "\n",
    "injdir = np.array([0,0,-100])\n",
    "proddir = np.array([0,0,100])\n",
    "\n",
    "_ = plotter.add_arrows(inj, injdir, mag=3, color='b')\n",
    "_ = plotter.add_arrows(prod, proddir, mag=3, color='r')\n",
    "_ = plotter.add_axes(line_width=5, labels_off=False)\n",
    "\n",
    "plotter.show()"
   ]
  },
  {
   "cell_type": "code",
   "execution_count": null,
   "metadata": {},
   "outputs": [],
   "source": []
  }
 ],
 "metadata": {
  "kernelspec": {
   "display_name": "Python 3",
   "language": "python",
   "name": "python3"
  },
  "language_info": {
   "codemirror_mode": {
    "name": "ipython",
    "version": 3
   },
   "file_extension": ".py",
   "mimetype": "text/x-python",
   "name": "python",
   "nbconvert_exporter": "python",
   "pygments_lexer": "ipython3",
   "version": "3.6.5"
  }
 },
 "nbformat": 4,
 "nbformat_minor": 2
}
